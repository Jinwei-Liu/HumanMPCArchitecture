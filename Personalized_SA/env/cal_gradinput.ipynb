{
 "cells": [
  {
   "cell_type": "code",
   "execution_count": 1,
   "id": "6e725798",
   "metadata": {},
   "outputs": [],
   "source": [
    "import sympy as sp\n",
    "\n",
    "# ── 状态向量 ─────────────────────────\n",
    "px, py, pz   = sp.symbols('px py pz')          # 位置\n",
    "qw, qx, qy, qz = sp.symbols('qw qx qy qz', real=True)  # 四元数 (单位化假设 |q|=1)\n",
    "vx, vy, vz   = sp.symbols('vx vy vz')          # 速度\n",
    "x = sp.Matrix([px, py, pz, qw, qx, qy, qz, vx, vy, vz])\n",
    "\n",
    "# ── 控制输入 ─────────────────────────\n",
    "T, wx, wy, wz = sp.symbols('T wx wy wz')       # 推力 + 机体角速度\n",
    "u = sp.Matrix([T, wx, wy, wz])\n",
    "\n",
    "g = sp.symbols('g')    # 重力常量"
   ]
  },
  {
   "cell_type": "code",
   "execution_count": 2,
   "id": "378a2dce",
   "metadata": {},
   "outputs": [],
   "source": [
    "# ① 位置微分\n",
    "p_dot = sp.Matrix([vx, vy, vz])\n",
    "\n",
    "# ② 姿态微分   0.5 * q ⊗ [0, ω]\n",
    "q_dot = sp.Matrix([\n",
    "    0.5*(-wx*qx - wy*qy - wz*qz),\n",
    "    0.5*( wx*qw + wz*qy - wy*qz),\n",
    "    0.5*( wy*qw - wz*qx + wx*qz),\n",
    "    0.5*( wz*qw + wy*qx - wx*qy)\n",
    "])\n",
    "\n",
    "# ③ 速度微分：R(q)·e₃ * T  - g·ẑ\n",
    "e3_w = sp.Matrix([\n",
    "    2*(qw*qy + qx*qz),\n",
    "    2*(qy*qz - qw*qx),\n",
    "    qw**2 - qx**2 - qy**2 + qz**2\n",
    "])\n",
    "v_dot = e3_w * T - sp.Matrix([0, 0, g])\n",
    "\n",
    "# ④ 拼成 f(x,u)\n",
    "f = sp.Matrix.vstack(p_dot, q_dot, v_dot)\n"
   ]
  },
  {
   "cell_type": "code",
   "execution_count": 3,
   "id": "7f3e2fff",
   "metadata": {},
   "outputs": [
    {
     "data": {
      "text/latex": [
       "$\\displaystyle \\left[\\begin{matrix}0 & 0 & 0 & 0 & 0 & 0 & 0 & 1 & 0 & 0\\\\0 & 0 & 0 & 0 & 0 & 0 & 0 & 0 & 1 & 0\\\\0 & 0 & 0 & 0 & 0 & 0 & 0 & 0 & 0 & 1\\\\0 & 0 & 0 & 0 & - 0.5 wx & - 0.5 wy & - 0.5 wz & 0 & 0 & 0\\\\0 & 0 & 0 & 0.5 wx & 0 & 0.5 wz & - 0.5 wy & 0 & 0 & 0\\\\0 & 0 & 0 & 0.5 wy & - 0.5 wz & 0 & 0.5 wx & 0 & 0 & 0\\\\0 & 0 & 0 & 0.5 wz & 0.5 wy & - 0.5 wx & 0 & 0 & 0 & 0\\\\0 & 0 & 0 & 2 T qy & 2 T qz & 2 T qw & 2 T qx & 0 & 0 & 0\\\\0 & 0 & 0 & - 2 T qx & - 2 T qw & 2 T qz & 2 T qy & 0 & 0 & 0\\\\0 & 0 & 0 & 2 T qw & - 2 T qx & - 2 T qy & 2 T qz & 0 & 0 & 0\\end{matrix}\\right]$"
      ],
      "text/plain": [
       "Matrix([\n",
       "[0, 0, 0,       0,       0,       0,       0, 1, 0, 0],\n",
       "[0, 0, 0,       0,       0,       0,       0, 0, 1, 0],\n",
       "[0, 0, 0,       0,       0,       0,       0, 0, 0, 1],\n",
       "[0, 0, 0,       0, -0.5*wx, -0.5*wy, -0.5*wz, 0, 0, 0],\n",
       "[0, 0, 0,  0.5*wx,       0,  0.5*wz, -0.5*wy, 0, 0, 0],\n",
       "[0, 0, 0,  0.5*wy, -0.5*wz,       0,  0.5*wx, 0, 0, 0],\n",
       "[0, 0, 0,  0.5*wz,  0.5*wy, -0.5*wx,       0, 0, 0, 0],\n",
       "[0, 0, 0,  2*T*qy,  2*T*qz,  2*T*qw,  2*T*qx, 0, 0, 0],\n",
       "[0, 0, 0, -2*T*qx, -2*T*qw,  2*T*qz,  2*T*qy, 0, 0, 0],\n",
       "[0, 0, 0,  2*T*qw, -2*T*qx, -2*T*qy,  2*T*qz, 0, 0, 0]])"
      ]
     },
     "execution_count": 3,
     "metadata": {},
     "output_type": "execute_result"
    }
   ],
   "source": [
    "A = f.jacobian(x)   # 10×10  (∂f/∂x)\n",
    "A"
   ]
  },
  {
   "cell_type": "code",
   "execution_count": 4,
   "id": "5e69dadf",
   "metadata": {},
   "outputs": [
    {
     "data": {
      "text/latex": [
       "$\\displaystyle \\left[\\begin{matrix}0 & 0 & 0 & 0\\\\0 & 0 & 0 & 0\\\\0 & 0 & 0 & 0\\\\0 & - 0.5 qx & - 0.5 qy & - 0.5 qz\\\\0 & 0.5 qw & - 0.5 qz & 0.5 qy\\\\0 & 0.5 qz & 0.5 qw & - 0.5 qx\\\\0 & - 0.5 qy & 0.5 qx & 0.5 qw\\\\2 qw qy + 2 qx qz & 0 & 0 & 0\\\\- 2 qw qx + 2 qy qz & 0 & 0 & 0\\\\qw^{2} - qx^{2} - qy^{2} + qz^{2} & 0 & 0 & 0\\end{matrix}\\right]$"
      ],
      "text/plain": [
       "Matrix([\n",
       "[                            0,       0,       0,       0],\n",
       "[                            0,       0,       0,       0],\n",
       "[                            0,       0,       0,       0],\n",
       "[                            0, -0.5*qx, -0.5*qy, -0.5*qz],\n",
       "[                            0,  0.5*qw, -0.5*qz,  0.5*qy],\n",
       "[                            0,  0.5*qz,  0.5*qw, -0.5*qx],\n",
       "[                            0, -0.5*qy,  0.5*qx,  0.5*qw],\n",
       "[            2*qw*qy + 2*qx*qz,       0,       0,       0],\n",
       "[           -2*qw*qx + 2*qy*qz,       0,       0,       0],\n",
       "[qw**2 - qx**2 - qy**2 + qz**2,       0,       0,       0]])"
      ]
     },
     "execution_count": 4,
     "metadata": {},
     "output_type": "execute_result"
    }
   ],
   "source": [
    "B = f.jacobian(u)   # 10×4   (∂f/∂u)\n",
    "B"
   ]
  }
 ],
 "metadata": {
  "kernelspec": {
   "display_name": "reward_rand",
   "language": "python",
   "name": "python3"
  },
  "language_info": {
   "codemirror_mode": {
    "name": "ipython",
    "version": 3
   },
   "file_extension": ".py",
   "mimetype": "text/x-python",
   "name": "python",
   "nbconvert_exporter": "python",
   "pygments_lexer": "ipython3",
   "version": "3.8.20"
  }
 },
 "nbformat": 4,
 "nbformat_minor": 5
}
